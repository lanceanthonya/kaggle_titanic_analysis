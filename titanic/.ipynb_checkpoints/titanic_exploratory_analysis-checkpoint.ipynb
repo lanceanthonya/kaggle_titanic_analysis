{
 "cells": [
  {
   "cell_type": "code",
   "execution_count": 1,
   "id": "39457828",
   "metadata": {},
   "outputs": [],
   "source": [
    "import pandas as pd\n",
    "import numpy as np\n",
    "from sklearn import preprocessing\n",
    "from sklearn.impute import SimpleImputer\n",
    "from scipy.stats import zscore\n",
    "\n",
    "\"\"\"\n",
    "https://www.kaggle.com/competitions/titanic/data\n",
    "\n",
    "Creating a model for predicting survival on the titanic\n",
    "\n",
    "Created by Cin A. (aka Lance Aquino)\n",
    "\"\"\"\n"
   ]
  },
  {
   "cell_type": "markdown",
   "id": "7bf1c75c",
   "metadata": {},
   "source": [
    "# Preprocessing and exploratory analysis"
   ]
  },
  {
   "cell_type": "code",
   "execution_count": 2,
   "id": "05044450",
   "metadata": {},
   "outputs": [],
   "source": [
    "df_gs = pd.read_csv(\"gender_submission.csv\")\n",
    "df_test = pd.read_csv(\"test.csv\")\n",
    "df_train = pd.read_csv(\"train.csv\")"
   ]
  },
  {
   "cell_type": "code",
   "execution_count": 3,
   "id": "f0f3c84e",
   "metadata": {},
   "outputs": [
    {
     "data": {
      "text/html": [
       "<div>\n",
       "<style scoped>\n",
       "    .dataframe tbody tr th:only-of-type {\n",
       "        vertical-align: middle;\n",
       "    }\n",
       "\n",
       "    .dataframe tbody tr th {\n",
       "        vertical-align: top;\n",
       "    }\n",
       "\n",
       "    .dataframe thead th {\n",
       "        text-align: right;\n",
       "    }\n",
       "</style>\n",
       "<table border=\"1\" class=\"dataframe\">\n",
       "  <thead>\n",
       "    <tr style=\"text-align: right;\">\n",
       "      <th></th>\n",
       "      <th>PassengerId</th>\n",
       "      <th>Survived</th>\n",
       "      <th>Pclass</th>\n",
       "      <th>Name</th>\n",
       "      <th>Sex</th>\n",
       "      <th>Age</th>\n",
       "      <th>SibSp</th>\n",
       "      <th>Parch</th>\n",
       "      <th>Ticket</th>\n",
       "      <th>Fare</th>\n",
       "      <th>Cabin</th>\n",
       "      <th>Embarked</th>\n",
       "    </tr>\n",
       "  </thead>\n",
       "  <tbody>\n",
       "    <tr>\n",
       "      <th>0</th>\n",
       "      <td>1</td>\n",
       "      <td>0</td>\n",
       "      <td>3</td>\n",
       "      <td>Braund, Mr. Owen Harris</td>\n",
       "      <td>male</td>\n",
       "      <td>22.0</td>\n",
       "      <td>1</td>\n",
       "      <td>0</td>\n",
       "      <td>A/5 21171</td>\n",
       "      <td>7.2500</td>\n",
       "      <td>NaN</td>\n",
       "      <td>S</td>\n",
       "    </tr>\n",
       "    <tr>\n",
       "      <th>1</th>\n",
       "      <td>2</td>\n",
       "      <td>1</td>\n",
       "      <td>1</td>\n",
       "      <td>Cumings, Mrs. John Bradley (Florence Briggs Th...</td>\n",
       "      <td>female</td>\n",
       "      <td>38.0</td>\n",
       "      <td>1</td>\n",
       "      <td>0</td>\n",
       "      <td>PC 17599</td>\n",
       "      <td>71.2833</td>\n",
       "      <td>C85</td>\n",
       "      <td>C</td>\n",
       "    </tr>\n",
       "    <tr>\n",
       "      <th>2</th>\n",
       "      <td>3</td>\n",
       "      <td>1</td>\n",
       "      <td>3</td>\n",
       "      <td>Heikkinen, Miss. Laina</td>\n",
       "      <td>female</td>\n",
       "      <td>26.0</td>\n",
       "      <td>0</td>\n",
       "      <td>0</td>\n",
       "      <td>STON/O2. 3101282</td>\n",
       "      <td>7.9250</td>\n",
       "      <td>NaN</td>\n",
       "      <td>S</td>\n",
       "    </tr>\n",
       "    <tr>\n",
       "      <th>3</th>\n",
       "      <td>4</td>\n",
       "      <td>1</td>\n",
       "      <td>1</td>\n",
       "      <td>Futrelle, Mrs. Jacques Heath (Lily May Peel)</td>\n",
       "      <td>female</td>\n",
       "      <td>35.0</td>\n",
       "      <td>1</td>\n",
       "      <td>0</td>\n",
       "      <td>113803</td>\n",
       "      <td>53.1000</td>\n",
       "      <td>C123</td>\n",
       "      <td>S</td>\n",
       "    </tr>\n",
       "    <tr>\n",
       "      <th>4</th>\n",
       "      <td>5</td>\n",
       "      <td>0</td>\n",
       "      <td>3</td>\n",
       "      <td>Allen, Mr. William Henry</td>\n",
       "      <td>male</td>\n",
       "      <td>35.0</td>\n",
       "      <td>0</td>\n",
       "      <td>0</td>\n",
       "      <td>373450</td>\n",
       "      <td>8.0500</td>\n",
       "      <td>NaN</td>\n",
       "      <td>S</td>\n",
       "    </tr>\n",
       "    <tr>\n",
       "      <th>...</th>\n",
       "      <td>...</td>\n",
       "      <td>...</td>\n",
       "      <td>...</td>\n",
       "      <td>...</td>\n",
       "      <td>...</td>\n",
       "      <td>...</td>\n",
       "      <td>...</td>\n",
       "      <td>...</td>\n",
       "      <td>...</td>\n",
       "      <td>...</td>\n",
       "      <td>...</td>\n",
       "      <td>...</td>\n",
       "    </tr>\n",
       "    <tr>\n",
       "      <th>886</th>\n",
       "      <td>887</td>\n",
       "      <td>0</td>\n",
       "      <td>2</td>\n",
       "      <td>Montvila, Rev. Juozas</td>\n",
       "      <td>male</td>\n",
       "      <td>27.0</td>\n",
       "      <td>0</td>\n",
       "      <td>0</td>\n",
       "      <td>211536</td>\n",
       "      <td>13.0000</td>\n",
       "      <td>NaN</td>\n",
       "      <td>S</td>\n",
       "    </tr>\n",
       "    <tr>\n",
       "      <th>887</th>\n",
       "      <td>888</td>\n",
       "      <td>1</td>\n",
       "      <td>1</td>\n",
       "      <td>Graham, Miss. Margaret Edith</td>\n",
       "      <td>female</td>\n",
       "      <td>19.0</td>\n",
       "      <td>0</td>\n",
       "      <td>0</td>\n",
       "      <td>112053</td>\n",
       "      <td>30.0000</td>\n",
       "      <td>B42</td>\n",
       "      <td>S</td>\n",
       "    </tr>\n",
       "    <tr>\n",
       "      <th>888</th>\n",
       "      <td>889</td>\n",
       "      <td>0</td>\n",
       "      <td>3</td>\n",
       "      <td>Johnston, Miss. Catherine Helen \"Carrie\"</td>\n",
       "      <td>female</td>\n",
       "      <td>NaN</td>\n",
       "      <td>1</td>\n",
       "      <td>2</td>\n",
       "      <td>W./C. 6607</td>\n",
       "      <td>23.4500</td>\n",
       "      <td>NaN</td>\n",
       "      <td>S</td>\n",
       "    </tr>\n",
       "    <tr>\n",
       "      <th>889</th>\n",
       "      <td>890</td>\n",
       "      <td>1</td>\n",
       "      <td>1</td>\n",
       "      <td>Behr, Mr. Karl Howell</td>\n",
       "      <td>male</td>\n",
       "      <td>26.0</td>\n",
       "      <td>0</td>\n",
       "      <td>0</td>\n",
       "      <td>111369</td>\n",
       "      <td>30.0000</td>\n",
       "      <td>C148</td>\n",
       "      <td>C</td>\n",
       "    </tr>\n",
       "    <tr>\n",
       "      <th>890</th>\n",
       "      <td>891</td>\n",
       "      <td>0</td>\n",
       "      <td>3</td>\n",
       "      <td>Dooley, Mr. Patrick</td>\n",
       "      <td>male</td>\n",
       "      <td>32.0</td>\n",
       "      <td>0</td>\n",
       "      <td>0</td>\n",
       "      <td>370376</td>\n",
       "      <td>7.7500</td>\n",
       "      <td>NaN</td>\n",
       "      <td>Q</td>\n",
       "    </tr>\n",
       "  </tbody>\n",
       "</table>\n",
       "<p>891 rows × 12 columns</p>\n",
       "</div>"
      ],
      "text/plain": [
       "     PassengerId  Survived  Pclass  \\\n",
       "0              1         0       3   \n",
       "1              2         1       1   \n",
       "2              3         1       3   \n",
       "3              4         1       1   \n",
       "4              5         0       3   \n",
       "..           ...       ...     ...   \n",
       "886          887         0       2   \n",
       "887          888         1       1   \n",
       "888          889         0       3   \n",
       "889          890         1       1   \n",
       "890          891         0       3   \n",
       "\n",
       "                                                  Name     Sex   Age  SibSp  \\\n",
       "0                              Braund, Mr. Owen Harris    male  22.0      1   \n",
       "1    Cumings, Mrs. John Bradley (Florence Briggs Th...  female  38.0      1   \n",
       "2                               Heikkinen, Miss. Laina  female  26.0      0   \n",
       "3         Futrelle, Mrs. Jacques Heath (Lily May Peel)  female  35.0      1   \n",
       "4                             Allen, Mr. William Henry    male  35.0      0   \n",
       "..                                                 ...     ...   ...    ...   \n",
       "886                              Montvila, Rev. Juozas    male  27.0      0   \n",
       "887                       Graham, Miss. Margaret Edith  female  19.0      0   \n",
       "888           Johnston, Miss. Catherine Helen \"Carrie\"  female   NaN      1   \n",
       "889                              Behr, Mr. Karl Howell    male  26.0      0   \n",
       "890                                Dooley, Mr. Patrick    male  32.0      0   \n",
       "\n",
       "     Parch            Ticket     Fare Cabin Embarked  \n",
       "0        0         A/5 21171   7.2500   NaN        S  \n",
       "1        0          PC 17599  71.2833   C85        C  \n",
       "2        0  STON/O2. 3101282   7.9250   NaN        S  \n",
       "3        0            113803  53.1000  C123        S  \n",
       "4        0            373450   8.0500   NaN        S  \n",
       "..     ...               ...      ...   ...      ...  \n",
       "886      0            211536  13.0000   NaN        S  \n",
       "887      0            112053  30.0000   B42        S  \n",
       "888      2        W./C. 6607  23.4500   NaN        S  \n",
       "889      0            111369  30.0000  C148        C  \n",
       "890      0            370376   7.7500   NaN        Q  \n",
       "\n",
       "[891 rows x 12 columns]"
      ]
     },
     "execution_count": 3,
     "metadata": {},
     "output_type": "execute_result"
    }
   ],
   "source": [
    "df_train"
   ]
  },
  {
   "cell_type": "code",
   "execution_count": 4,
   "id": "dbbd7c9b",
   "metadata": {},
   "outputs": [
    {
     "name": "stdout",
     "output_type": "stream",
     "text": [
      "<class 'pandas.core.frame.DataFrame'>\n",
      "RangeIndex: 891 entries, 0 to 890\n",
      "Data columns (total 12 columns):\n",
      " #   Column       Non-Null Count  Dtype  \n",
      "---  ------       --------------  -----  \n",
      " 0   PassengerId  891 non-null    int64  \n",
      " 1   Survived     891 non-null    int64  \n",
      " 2   Pclass       891 non-null    int64  \n",
      " 3   Name         891 non-null    object \n",
      " 4   Sex          891 non-null    object \n",
      " 5   Age          714 non-null    float64\n",
      " 6   SibSp        891 non-null    int64  \n",
      " 7   Parch        891 non-null    int64  \n",
      " 8   Ticket       891 non-null    object \n",
      " 9   Fare         891 non-null    float64\n",
      " 10  Cabin        204 non-null    object \n",
      " 11  Embarked     889 non-null    object \n",
      "dtypes: float64(2), int64(5), object(5)\n",
      "memory usage: 83.7+ KB\n"
     ]
    }
   ],
   "source": [
    "df_train.info()"
   ]
  },
  {
   "cell_type": "markdown",
   "id": "ec7fcc27",
   "metadata": {},
   "source": [
    "We should exclude the cabin category, due to the large number of NaNs.\n",
    "Age should probably also be imputed by means, due to the high number of NaNs\n",
    "\n",
    "We should also exclude names, as they won't be used in the model."
   ]
  },
  {
   "cell_type": "code",
   "execution_count": 5,
   "id": "66291697",
   "metadata": {},
   "outputs": [],
   "source": [
    "# converting label encoded data to their respective labels\n",
    "survival_key = {0:\"No\", 1: \"Yes\"}\n",
    "class_key = {1:\"1st\", 2 : \"2\", 3:\"3rd\"}\n"
   ]
  },
  {
   "cell_type": "code",
   "execution_count": 6,
   "id": "8278c523",
   "metadata": {},
   "outputs": [
    {
     "data": {
      "text/html": [
       "<div>\n",
       "<style scoped>\n",
       "    .dataframe tbody tr th:only-of-type {\n",
       "        vertical-align: middle;\n",
       "    }\n",
       "\n",
       "    .dataframe tbody tr th {\n",
       "        vertical-align: top;\n",
       "    }\n",
       "\n",
       "    .dataframe thead th {\n",
       "        text-align: right;\n",
       "    }\n",
       "</style>\n",
       "<table border=\"1\" class=\"dataframe\">\n",
       "  <thead>\n",
       "    <tr style=\"text-align: right;\">\n",
       "      <th></th>\n",
       "      <th>PassengerId</th>\n",
       "      <th>Pclass</th>\n",
       "      <th>Sex</th>\n",
       "      <th>Age</th>\n",
       "      <th>SibSp</th>\n",
       "      <th>Parch</th>\n",
       "      <th>Fare</th>\n",
       "      <th>Embarked</th>\n",
       "    </tr>\n",
       "  </thead>\n",
       "  <tbody>\n",
       "    <tr>\n",
       "      <th>0</th>\n",
       "      <td>1</td>\n",
       "      <td>3</td>\n",
       "      <td>1</td>\n",
       "      <td>-0.592481</td>\n",
       "      <td>1</td>\n",
       "      <td>0</td>\n",
       "      <td>-0.502445</td>\n",
       "      <td>2</td>\n",
       "    </tr>\n",
       "    <tr>\n",
       "      <th>1</th>\n",
       "      <td>2</td>\n",
       "      <td>1</td>\n",
       "      <td>0</td>\n",
       "      <td>0.638789</td>\n",
       "      <td>1</td>\n",
       "      <td>0</td>\n",
       "      <td>0.786845</td>\n",
       "      <td>0</td>\n",
       "    </tr>\n",
       "    <tr>\n",
       "      <th>2</th>\n",
       "      <td>3</td>\n",
       "      <td>3</td>\n",
       "      <td>0</td>\n",
       "      <td>-0.284663</td>\n",
       "      <td>0</td>\n",
       "      <td>0</td>\n",
       "      <td>-0.488854</td>\n",
       "      <td>2</td>\n",
       "    </tr>\n",
       "    <tr>\n",
       "      <th>3</th>\n",
       "      <td>4</td>\n",
       "      <td>1</td>\n",
       "      <td>0</td>\n",
       "      <td>0.407926</td>\n",
       "      <td>1</td>\n",
       "      <td>0</td>\n",
       "      <td>0.420730</td>\n",
       "      <td>2</td>\n",
       "    </tr>\n",
       "    <tr>\n",
       "      <th>4</th>\n",
       "      <td>5</td>\n",
       "      <td>3</td>\n",
       "      <td>1</td>\n",
       "      <td>0.407926</td>\n",
       "      <td>0</td>\n",
       "      <td>0</td>\n",
       "      <td>-0.486337</td>\n",
       "      <td>2</td>\n",
       "    </tr>\n",
       "    <tr>\n",
       "      <th>...</th>\n",
       "      <td>...</td>\n",
       "      <td>...</td>\n",
       "      <td>...</td>\n",
       "      <td>...</td>\n",
       "      <td>...</td>\n",
       "      <td>...</td>\n",
       "      <td>...</td>\n",
       "      <td>...</td>\n",
       "    </tr>\n",
       "    <tr>\n",
       "      <th>886</th>\n",
       "      <td>887</td>\n",
       "      <td>2</td>\n",
       "      <td>1</td>\n",
       "      <td>-0.207709</td>\n",
       "      <td>0</td>\n",
       "      <td>0</td>\n",
       "      <td>-0.386671</td>\n",
       "      <td>2</td>\n",
       "    </tr>\n",
       "    <tr>\n",
       "      <th>887</th>\n",
       "      <td>888</td>\n",
       "      <td>1</td>\n",
       "      <td>0</td>\n",
       "      <td>-0.823344</td>\n",
       "      <td>0</td>\n",
       "      <td>0</td>\n",
       "      <td>-0.044381</td>\n",
       "      <td>2</td>\n",
       "    </tr>\n",
       "    <tr>\n",
       "      <th>888</th>\n",
       "      <td>889</td>\n",
       "      <td>3</td>\n",
       "      <td>0</td>\n",
       "      <td>0.000000</td>\n",
       "      <td>1</td>\n",
       "      <td>2</td>\n",
       "      <td>-0.176263</td>\n",
       "      <td>2</td>\n",
       "    </tr>\n",
       "    <tr>\n",
       "      <th>889</th>\n",
       "      <td>890</td>\n",
       "      <td>1</td>\n",
       "      <td>1</td>\n",
       "      <td>-0.284663</td>\n",
       "      <td>0</td>\n",
       "      <td>0</td>\n",
       "      <td>-0.044381</td>\n",
       "      <td>0</td>\n",
       "    </tr>\n",
       "    <tr>\n",
       "      <th>890</th>\n",
       "      <td>891</td>\n",
       "      <td>3</td>\n",
       "      <td>1</td>\n",
       "      <td>0.177063</td>\n",
       "      <td>0</td>\n",
       "      <td>0</td>\n",
       "      <td>-0.492378</td>\n",
       "      <td>1</td>\n",
       "    </tr>\n",
       "  </tbody>\n",
       "</table>\n",
       "<p>891 rows × 8 columns</p>\n",
       "</div>"
      ],
      "text/plain": [
       "     PassengerId  Pclass  Sex       Age  SibSp  Parch      Fare  Embarked\n",
       "0              1       3    1 -0.592481      1      0 -0.502445         2\n",
       "1              2       1    0  0.638789      1      0  0.786845         0\n",
       "2              3       3    0 -0.284663      0      0 -0.488854         2\n",
       "3              4       1    0  0.407926      1      0  0.420730         2\n",
       "4              5       3    1  0.407926      0      0 -0.486337         2\n",
       "..           ...     ...  ...       ...    ...    ...       ...       ...\n",
       "886          887       2    1 -0.207709      0      0 -0.386671         2\n",
       "887          888       1    0 -0.823344      0      0 -0.044381         2\n",
       "888          889       3    0  0.000000      1      2 -0.176263         2\n",
       "889          890       1    1 -0.284663      0      0 -0.044381         0\n",
       "890          891       3    1  0.177063      0      0 -0.492378         1\n",
       "\n",
       "[891 rows x 8 columns]"
      ]
     },
     "execution_count": 6,
     "metadata": {},
     "output_type": "execute_result"
    }
   ],
   "source": [
    "def process_data(df):\n",
    "    \"\"\"\n",
    "    Removes columns that are redundant (Ticket) ,have many \n",
    "    NaNs (Cabin), or otherwise unimportant (Name) for applying a\n",
    "    machine learning model from X, and separates the thing\n",
    "    we're predicting (Survived) into y.\n",
    "    \n",
    "    returns:\n",
    "    X: processed data where Ticket, Name, Cabin, and Survived are removed, PassengerId becomes the indeces\n",
    "    y: processed data where survival status is recorded (0 for lived, 1 for not)\n",
    "    \"\"\"\n",
    "        \n",
    "    # sets PassengerId as the index for all data\n",
    "    X = df.set_index(\"PassengerId\")\n",
    "    y = X[\"Survived\"] # also set y to X[\"Survived\"] before removing it\n",
    "    \n",
    "    # Removes unimportant columns and y data from the X df\n",
    "    X = df.drop([\"Survived\",\"Ticket\",\"Name\",\"Cabin\"],axis = 1)\n",
    "    le = preprocessing.LabelEncoder()\n",
    "    \n",
    "    # encodes categorical data as ints\n",
    "    X[\"Sex\"] = le.fit_transform(X[\"Sex\"])\n",
    "    X[\"Embarked\"] = le.fit_transform(X[\"Embarked\"])\n",
    "    \n",
    "    # imputes NaN data in age by adding the mean of the column\n",
    "    imp_means = SimpleImputer(missing_values=np.nan,strategy =\"mean\") #fills in NaNs\n",
    "    age_arr = np.array(X[\"Age\"]).reshape(-1,1) # need to reshape to get it to work in the imputer\n",
    "    age_arr_imp = imp_means.fit_transform(age_arr) # fills in nans within X_processed \n",
    "    \n",
    "    # zscoring continuous variables\n",
    "    X[\"Age\"] = zscore(age_arr_imp) # overwrites ages with zscored ages\n",
    "    X[\"Fare\"] = zscore(X[\"Fare\"])\n",
    "    \n",
    "    return X,y\n",
    "X,y = process_data(df_train)\n",
    "X"
   ]
  },
  {
   "cell_type": "code",
   "execution_count": 7,
   "id": "fb4d659f",
   "metadata": {},
   "outputs": [
    {
     "data": {
      "text/plain": [
       "PassengerId\n",
       "1      0\n",
       "2      1\n",
       "3      1\n",
       "4      1\n",
       "5      0\n",
       "      ..\n",
       "887    0\n",
       "888    1\n",
       "889    0\n",
       "890    1\n",
       "891    0\n",
       "Name: Survived, Length: 891, dtype: int64"
      ]
     },
     "execution_count": 7,
     "metadata": {},
     "output_type": "execute_result"
    }
   ],
   "source": [
    "y"
   ]
  },
  {
   "cell_type": "markdown",
   "id": "60b64313",
   "metadata": {},
   "source": [
    "# Cross-validation for the model we want to use"
   ]
  },
  {
   "cell_type": "code",
   "execution_count": 8,
   "id": "5ab685db",
   "metadata": {},
   "outputs": [],
   "source": [
    "from sklearn.linear_model import LogisticRegression\n",
    "from sklearn.ensemble import RandomForestClassifier\n",
    "from sklearn.svm import SVC # \"Support vector classifier\"\n",
    "from sklearn.model_selection import  cross_val_predict\n",
    "from sklearn.model_selection import KFold\n",
    "from sklearn.model_selection import cross_val_score\n",
    "from sklearn.model_selection import permutation_test_score\n",
    "from sklearn.metrics import confusion_matrix\n",
    "from matplotlib import pyplot as plt"
   ]
  },
  {
   "cell_type": "markdown",
   "id": "8c8aae55",
   "metadata": {},
   "source": [
    "## Logistic Regression?"
   ]
  },
  {
   "cell_type": "code",
   "execution_count": 9,
   "id": "cbef1c22",
   "metadata": {},
   "outputs": [],
   "source": [
    "# L2 vs L1\n",
    "kf = KFold(n_splits=5,shuffle = True)\n",
    "X,y = process_data(df_train)\n",
    "\n",
    "num_iterations = 100\n",
    "# Cross validating L1 and recording the average score\n",
    "l1_avg_scores = []\n",
    "\n",
    "LR_L1 = LogisticRegression(penalty = \"l1\",solver = \"liblinear\",max_iter = 1000)\n",
    "LR_L1.fit(X,y)\n",
    "for i in range (num_iterations):\n",
    "    l1_acc = np.mean(cross_val_score(LR_L1, X,y,cv = kf))\n",
    "    l1_avg_scores.append(l1_acc)\n",
    "\n",
    "# Cross validating L2 and recording the average score\n",
    "l2_avg_scores = []\n",
    "LR_L2 = LogisticRegression(penalty = \"l2\",solver = \"liblinear\",max_iter = 1000)\n",
    "LR_L2.fit(X,y)\n",
    "for i in range (num_iterations):\n",
    "    l2_acc = np.mean(cross_val_score(LR_L2, X,y, cv=kf))\n",
    "    l2_avg_scores.append(l2_acc)"
   ]
  },
  {
   "cell_type": "code",
   "execution_count": 10,
   "id": "aa3a4478",
   "metadata": {},
   "outputs": [],
   "source": [
    "#l2_permute[1]"
   ]
  },
  {
   "cell_type": "code",
   "execution_count": 14,
   "id": "34e74b13",
   "metadata": {},
   "outputs": [
    {
     "data": {
      "text/plain": [
       "[Text(0.5, 1.0, 'Comparison between L1 and L2 Logistic Regression using liblinear solver'),\n",
       " Text(0, 0.5, 'Model Accuracy')]"
      ]
     },
     "execution_count": 14,
     "metadata": {},
     "output_type": "execute_result"
    },
    {
     "data": {
      "image/png": "[encoded data removed]",
      "text/plain": [
       "<Figure size 432x288 with 1 Axes>"
      ]
     },
     "metadata": {
      "needs_background": "light"
     },
     "output_type": "display_data"
    }
   ],
   "source": [
    "fig,ax = plt.subplots(1)\n",
    "l1_l2 = pd.DataFrame({\"L1\":l1_avg_scores,\n",
    "                      \"L2\":l2_avg_scores})\n",
    "labels = [\"L1\",\"L2\"]\n",
    "ax.boxplot(l1_l2,labels = labels)\n",
    "ax.set(\n",
    "    title = \"Comparison between L1 and L2 Logistic Regression using liblinear solver\",\n",
    "    ylabel = \"Model Accuracy\"\n",
    ")\n"
   ]
  },
  {
   "cell_type": "markdown",
   "id": "891b0dda",
   "metadata": {},
   "source": [
    "It seems that on average, L2 performs better than L1 when cross validated 100 times over 5 folds, where both types of regression utilize the liblinear solver algorithm"
   ]
  },
  {
   "cell_type": "code",
   "execution_count": 35,
   "id": "aa512628",
   "metadata": {},
   "outputs": [
    {
     "name": "stdout",
     "output_type": "stream",
     "text": [
      "Best Elastic Net L1 mixing Parameter: 0.6000000000000001 (score = 0.747486033519553)\n"
     ]
    }
   ],
   "source": [
    "# Elastic net mixing parameters (l1_ratio)\n",
    "L1_ratios = np.linspace(0,1,11)\n",
    "#enet_avg_scores = []\n",
    "\n",
    "best_enet_score = -np.inf\n",
    "best_l1_ratio = -np.inf\n",
    "scores = []\n",
    "for a in L1_ratios:\n",
    "    kf = KFold(n_splits=5,shuffle = True, random_state = 42)\n",
    "    lr_enet = LogisticRegression(solver = \"saga\",penalty = \"elasticnet\",l1_ratio =a ,max_iter = 7000)\n",
    "    lr_enet.fit(X,y)\n",
    "    lr_enet_acc = np.mean(cross_val_score(lr_enet, X,y, cv=kf))\n",
    "    scores.append(lr_enet_acc)\n",
    "    if lr_enet_acc>best_enet_score:\n",
    "        best_enet_score = lr_enet_acc\n",
    "        best_l1_ratio = a\n",
    "template = \"Best Elastic Net L1 mixing Parameter: {0} (score = {1})\"\n",
    "print(template.format(best_l1_ratio,lr_enet_acc))"
   ]
  },
  {
   "cell_type": "markdown",
   "id": "a3e5faf4",
   "metadata": {},
   "source": [
    "Elastic net seems to perform lower, compared to both L1 and L2 when we tried to cross validate for its best parameter, so I'm deciding to stick L2"
   ]
  },
  {
   "cell_type": "markdown",
   "id": "a1cff114",
   "metadata": {},
   "source": [
    "## Random Forest?"
   ]
  },
  {
   "cell_type": "code",
   "execution_count": 37,
   "id": "3709f5ae",
   "metadata": {},
   "outputs": [
    {
     "name": "stdout",
     "output_type": "stream",
     "text": [
      "Best n_estimators: 73 (score = 0.8327537505492437)\n",
      "Best max_depth: 23 (score = 0.8338773460548616)\n"
     ]
    }
   ],
   "source": [
    "N=100 #largest max depth/n_estimator\n",
    "\n",
    "X,y = process_data(df_train)\n",
    "\n",
    "kf = KFold(n_splits=5,shuffle = True,random_state = 42)\n",
    "\n",
    "best_n_estimators = 0\n",
    "best_ne_score=-np.inf\n",
    "ne_scores=np.zeros(N)\n",
    "\n",
    "best_depth = 0\n",
    "best_depth_score = -np.inf\n",
    "depth_scores=np.zeros(N)\n",
    "\n",
    "#Cross validating for number of estimators/trees\n",
    "for ne in range(1,N+1): #iterates through values 1 - 40 to use as the number of estimators for of the model\n",
    "    \n",
    "    RF = RandomForestClassifier(n_estimators=ne)\n",
    "    \n",
    "    #adds the average score in 10 folds to the list \n",
    "    # ne-1 since the range starts at 1\n",
    "    \n",
    "    ne_scores[ne-1]=cross_val_score(RF,X,y,cv=kf).mean()\n",
    "    \n",
    "    # if the current score is better, replaces the best recorded best_ne_score with current one\n",
    "    if ne_scores[ne-1]>best_ne_score:\n",
    "        best_n_estimators=ne #sets the best estimator\n",
    "        best_ne_score=ne_scores[ne-1] # record its score\n",
    "        \n",
    "#Cross validating for the max depth of the trees\n",
    "\n",
    "for d in range(1,N+1): #iterates through values 1 - 40 to use as the the max depth of the model\n",
    "    \n",
    "    RF = RandomForestClassifier(max_depth=d,n_estimators=best_n_estimators)\n",
    "    \n",
    "    #adds the average score in 10 folds to the list \n",
    "    depth_scores[d-1]=cross_val_score(RF,X,y,cv=kf).mean()\n",
    "    if depth_scores[d-1]>best_depth_score: # if the current score is better, replaces the best recorded depth with current\n",
    "        best_depth=d\n",
    "        best_depth_score=depth_scores[d-1]\n",
    "\n",
    "template_ne = \"Best n_estimators: {0} (score = {1})\"\n",
    "template_d = \"Best max_depth: {0} (score = {1})\"\n",
    "\n",
    "print(template_ne.format(best_n_estimators,best_ne_score))\n",
    "print(template_d.format(best_depth,best_depth_score))"
   ]
  },
  {
   "cell_type": "code",
   "execution_count": 38,
   "id": "6cfde22d",
   "metadata": {},
   "outputs": [],
   "source": [
    "kf = KFold(n_splits=5,shuffle = True)\n",
    "num_iterations = 100\n",
    "\n",
    "# measuring the performance of the random forest on 5-folds 100 cross valdationss\n",
    "rf_avg_scores = []\n",
    "RF = RandomForestClassifier(max_depth=best_depth,\n",
    "                            n_estimators=best_n_estimators)\n",
    "RF.fit(X,y)\n",
    "for i in range (num_iterations):\n",
    "    rf_acc = np.mean(cross_val_score(RF, X,y,cv = kf))\n",
    "    rf_avg_scores.append(rf_acc)"
   ]
  },
  {
   "cell_type": "code",
   "execution_count": 45,
   "id": "1f0be90e",
   "metadata": {},
   "outputs": [
    {
     "name": "stdout",
     "output_type": "stream",
     "text": [
      "RF (max_depth = 73, n_estimators = 23)\n"
     ]
    },
    {
     "data": {
      "image/png": "[encoded data removed]",
      "text/plain": [
       "<Figure size 432x288 with 1 Axes>"
      ]
     },
     "metadata": {
      "needs_background": "light"
     },
     "output_type": "display_data"
    }
   ],
   "source": [
    "fig,ax = plt.subplots(1)\n",
    "l1_rf_scores = pd.DataFrame({\"L1\":l1_avg_scores,\n",
    "                             \"L2\":l2_avg_scores,\n",
    "                             \"RF\":rf_avg_scores})\n",
    "\n",
    "rf_template = \"RF (max_depth = {0}, n_estimators = {1})\"\n",
    "labels = [\"L1\",\"L2\",\"RF\"]\n",
    "ax.boxplot(l1_rf_scores,labels = labels)\n",
    "ax.set(\n",
    "    title = \"Comparison between L2 Logistic Regression and Random Forest\",\n",
    "    ylabel = \"Model Accuracy\"\n",
    ")\n",
    "\n",
    "print(rf_template.format(best_n_estimators,best_depth))"
   ]
  },
  {
   "cell_type": "markdown",
   "id": "3811e0ca",
   "metadata": {},
   "source": [
    "Random forests appear to perform slightly better than L2 and L1, but have a larger range of accuracies"
   ]
  },
  {
   "cell_type": "markdown",
   "id": "444aea8f",
   "metadata": {},
   "source": [
    "## PLSR"
   ]
  },
  {
   "cell_type": "code",
   "execution_count": 52,
   "id": "9c2497be",
   "metadata": {},
   "outputs": [
    {
     "name": "stdout",
     "output_type": "stream",
     "text": [
      "Accuracy =  0.39490088342811147\n"
     ]
    },
    {
     "data": {
      "text/plain": [
       "<matplotlib.lines.Line2D at 0x7fef3a2aa3a0>"
      ]
     },
     "execution_count": 52,
     "metadata": {},
     "output_type": "execute_result"
    },
    {
     "data": {
      "image/png": "[encoded data removed]",
      "text/plain": [
       "<Figure size 360x360 with 1 Axes>"
      ]
     },
     "metadata": {
      "needs_background": "light"
     },
     "output_type": "display_data"
    }
   ],
   "source": []
  },
  {
   "cell_type": "code",
   "execution_count": null,
   "id": "b56c0d0c",
   "metadata": {},
   "outputs": [],
   "source": []
  }
 ],
 "metadata": {
  "kernelspec": {
   "display_name": "Python 3 (ipykernel)",
   "language": "python",
   "name": "python3"
  },
  "language_info": {
   "codemirror_mode": {
    "name": "ipython",
    "version": 3
   },
   "file_extension": ".py",
   "mimetype": "text/x-python",
   "name": "python",
   "nbconvert_exporter": "python",
   "pygments_lexer": "ipython3",
   "version": "3.9.7"
  }
 },
 "nbformat": 4,
 "nbformat_minor": 5
}
